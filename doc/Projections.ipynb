{
 "cells": [
  {
   "cell_type": "code",
   "execution_count": null,
   "metadata": {
    "collapsed": false
   },
   "outputs": [],
   "source": [
    "import iris\n",
    "import numpy as np\n",
    "import holoviews as hv\n",
    "import geoviews as gv\n",
    "from cartopy import crs\n",
    "from cartopy import feature as cf\n",
    "\n",
    "hv.notebook_extension()"
   ]
  },
  {
   "cell_type": "markdown",
   "metadata": {},
   "source": [
    "The ``geoviews`` package provides a library of Element types which make it very easy to plot data on various geographic projections. Depending on the type of data, the plotting code will automatically infer the correct ``transform`` and a default output ``projection``."
   ]
  },
  {
   "cell_type": "code",
   "execution_count": null,
   "metadata": {
    "collapsed": false
   },
   "outputs": [],
   "source": [
    "%%output size=400\n",
    "cartopy_features = [cf.LAND, cf.OCEAN, cf.RIVERS, cf.LAKES, cf.BORDERS, cf.COASTLINE]\n",
    "features = hv.Overlay([gv.Feature(feature) for feature in cartopy_features])\n",
    "features"
   ]
  },
  {
   "cell_type": "markdown",
   "metadata": {},
   "source": [
    "The Bokeh backend currently only supports one output projection (web Mercator), but with the matplotlib backend you can choose between any of the available cartopy projections:"
   ]
  },
  {
   "cell_type": "code",
   "execution_count": null,
   "metadata": {
    "collapsed": true
   },
   "outputs": [],
   "source": [
    "projections = [crs.RotatedPole, crs.Mercator, crs.LambertCylindrical, crs.Geostationary, \n",
    "               crs.AzimuthalEquidistant, crs.OSGB, crs.EuroPP, crs.Gnomonic, crs.PlateCarree, \n",
    "               crs.Mollweide, crs.OSNI, crs.Miller, crs.InterruptedGoodeHomolosine,\n",
    "               crs.LambertConformal, crs.SouthPolarStereo, crs.AlbersEqualArea, crs.Orthographic,\n",
    "               crs.NorthPolarStereo, crs.Robinson]"
   ]
  },
  {
   "cell_type": "markdown",
   "metadata": {},
   "source": [
    "(`crs.TransverseMercator` and `crs.Stereographic` can also be used, but currently generate warnings.)  We can test the different projections by creating a HoloViews Layout of ``Feature`` elements, each with a different projection:"
   ]
  },
  {
   "cell_type": "code",
   "execution_count": null,
   "metadata": {
    "collapsed": false,
    "scrolled": false
   },
   "outputs": [],
   "source": [
    "hv.Layout([gv.Feature(cf.COASTLINE, group=p.__name__)(plot=dict(projection=p()))\n",
    "           for p in projections]).display('all')"
   ]
  },
  {
   "cell_type": "markdown",
   "metadata": {},
   "source": [
    "To change the output projection for a single HoloViews object, we can use the call method and set the projection as a plot option.  In this way we can easily compose plots with different output projections:"
   ]
  },
  {
   "cell_type": "code",
   "execution_count": null,
   "metadata": {
    "collapsed": false
   },
   "outputs": [],
   "source": [
    "%output size=200\n",
    "feats = [cf.LAND, cf.OCEAN, cf.RIVERS, cf.LAKES, cf.BORDERS, cf.COASTLINE]\n",
    "features = hv.Overlay([gv.Feature(feature) for feature in feats])\n",
    "\n",
    "(features(plot=dict(projection=crs.Mollweide())) +\n",
    "features.relabel(group='Geostationary Overlay')(plot=dict(projection=crs.Geostationary())))"
   ]
  },
  {
   "cell_type": "markdown",
   "metadata": {},
   "source": [
    "Setting the output projection in this way will currently work only with the Matplotlib backend, because Bokeh only supports web Mercator output, but both backends can use incoming data in any of the supported projections, via the `crs` parameter of most GeoViews objects."
   ]
  }
 ],
 "metadata": {
  "hide_input": false,
  "kernelspec": {
   "display_name": "Python 2",
   "language": "python",
   "name": "python2"
  },
  "language_info": {
   "codemirror_mode": {
    "name": "ipython",
    "version": 2
   },
   "file_extension": ".py",
   "mimetype": "text/x-python",
   "name": "python",
   "nbconvert_exporter": "python",
   "pygments_lexer": "ipython2",
   "version": "2.7.11"
  },
  "widgets": {
   "state": {},
   "version": "1.1.2"
  }
 },
 "nbformat": 4,
 "nbformat_minor": 0
}
