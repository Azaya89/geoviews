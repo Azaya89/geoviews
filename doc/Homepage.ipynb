{
 "cells": [
  {
   "cell_type": "markdown",
   "metadata": {},
   "source": [
    "GeoViews is a [Python](http://python.org) library that makes it easy to explore and visualize geographical, meteorological, and oceanographic datasets.  \n",
    "\n",
    "GeoViews is built on the [HoloViews](http://holoviews.org) library for flexible visualizations of multidimensional data.  GeoViews adds a family of geographic plot types based on the [Cartopy](http://scitools.org.uk/cartopy) library for [Matplotlib](http://matplotlib.org/).  Each of these new `GeoElement` plot types is a new HoloViews `Element` that has an associated geographic projection based on `cartopy.crs`. The `GeoElements` currently include `Feature`, `WMTS`, `Tiles`, `Points`, `Contours`, `Image`, and `Text` objects, each of which can easily be overlaid in the same plots.  E.g. an object with temperature data can be overlaid with coastline data using an expression like ``gv.Image(temperature)*gv.Feature(cartopy.feature.COASTLINE)``.  Each `GeoElement` can also be freely combined in layouts with any other HoloViews `Element`, making it simple to make even complex multi-figure layouts.\n",
    "\n",
    "With GeoViews, you can now work easily and naturally with large, multidimensional geographic datasets, instantly visualizing any subset or combination of them, while always being able to access the raw data underlying any plot.  Here's a simple example:"
   ]
  },
  {
   "cell_type": "code",
   "execution_count": null,
   "metadata": {
    "collapsed": false
   },
   "outputs": [],
   "source": [
    "import holoviews as hv\n",
    "import geoviews as gv\n",
    "from cartopy import crs\n",
    "from cartopy import feature as cf\n",
    "\n",
    "hv.notebook_extension()"
   ]
  },
  {
   "cell_type": "code",
   "execution_count": null,
   "metadata": {
    "collapsed": false
   },
   "outputs": [],
   "source": [
    "%%opts Feature [projection=crs.Geostationary()]\n",
    "\n",
    "coasts  = gv.Feature(cf.COASTLINE)\n",
    "borders = gv.Feature(cf.BORDERS)\n",
    "ocean   = gv.Feature(cf.OCEAN)\n",
    "\n",
    "ocean + borders + (ocean*borders).relabel(\"Overlay\")"
   ]
  },
  {
   "cell_type": "markdown",
   "metadata": {},
   "source": [
    "GeoViews is designed to work well with the [Iris](http://scitools.org.uk/iris) library for storing and processing climate and weather data, extracting the data and metadata from Iris [cubes](http://scitools.org.uk/iris/docs/latest/userguide/iris_cubes.html) for use in `GeoElement`s.  HoloViews version 1.5 and later can read Iris cubes directly, as for other supported data formats like NumPy arrays and Pandas data frames.   \n",
    "\n",
    "The following example loads a cube from [iris-sample-data](https://github.com/SciTools/iris-sample-data) and quickly builds an interactive tool for exploring the data:"
   ]
  },
  {
   "cell_type": "code",
   "execution_count": null,
   "metadata": {
    "collapsed": false
   },
   "outputs": [],
   "source": [
    "%%opts Image [colorbar=True] (cmap='viridis') Overlay [fig_size=200]\n",
    "\n",
    "import iris\n",
    "surface_temp = iris.load_cube(iris.sample_data_path('GloSea4', 'ensemble_001.pp'))\n",
    "\n",
    "hv.Dataset(surface_temp).groupby(['time'], group_type=gv.Image) * gv.Feature(cf.COASTLINE)"
   ]
  }
 ],
 "metadata": {
  "hide_input": false,
  "kernelspec": {
   "display_name": "Python 2",
   "language": "python",
   "name": "python2"
  },
  "language_info": {
   "codemirror_mode": {
    "name": "ipython",
    "version": 2
   },
   "file_extension": ".py",
   "mimetype": "text/x-python",
   "name": "python",
   "nbconvert_exporter": "python",
   "pygments_lexer": "ipython2",
   "version": "2.7.11"
  }
 },
 "nbformat": 4,
 "nbformat_minor": 0
}
