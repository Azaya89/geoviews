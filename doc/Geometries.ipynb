{
 "cells": [
  {
   "cell_type": "code",
   "execution_count": null,
   "metadata": {
    "collapsed": false
   },
   "outputs": [],
   "source": [
    "import pandas as pd\n",
    "import numpy as np\n",
    "import holoviews as hv\n",
    "import geoviews as gv\n",
    "import cartopy\n",
    "from cartopy import crs as ccrs\n",
    "from cartopy import feature as cf\n",
    "hv.notebook_extension()\n",
    "%output dpi=120"
   ]
  },
  {
   "cell_type": "markdown",
   "metadata": {},
   "source": [
    "Cartopy and shapely make working with geometries and shapes very simple and GeoViews provides convenient means of wrapping the various geometry types they provide. In addition to basic Path and Polygons types, which draw geometries from lists of arrays, GeoViews also provides the ``Feature`` and ``Shape`` types, which wrap cartopy Features and shapely geometries respectively."
   ]
  },
  {
   "cell_type": "markdown",
   "metadata": {},
   "source": [
    "### Feature"
   ]
  },
  {
   "cell_type": "markdown",
   "metadata": {},
   "source": [
    "The Feature Element provides a very convenient means of overlaying a set of basic geographic features on top of a plot. The cartopy library has a feature module, which we have imported as ``cf``, which provides basic geographic features such as coastlines, country borders, and land masses. Here we demonstrate how we can plot these very easily, either in isolation or overlaid."
   ]
  },
  {
   "cell_type": "code",
   "execution_count": null,
   "metadata": {
    "collapsed": false
   },
   "outputs": [],
   "source": [
    "%opts Overlay [show_grid=False] Layout [hspace=0.2 sublabel_position=(-.15, .7)]\n",
    "coasts  = gv.Feature(cf.COASTLINE)\n",
    "borders = gv.Feature(cf.BORDERS)\n",
    "land   = gv.Feature(cf.LAND)\n",
    "\n",
    "land + borders + (land*borders).relabel(\"Overlay\")"
   ]
  },
  {
   "cell_type": "markdown",
   "metadata": {},
   "source": [
    "### Shape"
   ]
  },
  {
   "cell_type": "markdown",
   "metadata": {},
   "source": [
    "The ``Shape`` object wraps around any shapely geometry allowing finer grained control over each polygon. We can for example access the geometries on the ``LAND`` feature and display them individually. Here we will get the geometry corresponding to the Australian continent and display it using shapely's inbuilt SVG repr, note this is not yet a HoloViews plot:"
   ]
  },
  {
   "cell_type": "code",
   "execution_count": null,
   "metadata": {
    "collapsed": false
   },
   "outputs": [],
   "source": [
    "land_geoms = list(cf.LAND.geometries())\n",
    "land_geoms[21]"
   ]
  },
  {
   "cell_type": "markdown",
   "metadata": {},
   "source": [
    "Instead of letting shapely render it as an SVG we can now wrap it in the shape object and let matplotlib or bokeh render it:"
   ]
  },
  {
   "cell_type": "code",
   "execution_count": null,
   "metadata": {
    "collapsed": false
   },
   "outputs": [],
   "source": [
    "gv.Shape(land_geoms[21], crs=ccrs.PlateCarree(), group='Australia')"
   ]
  },
  {
   "cell_type": "markdown",
   "metadata": {},
   "source": [
    "We can also iterate over the geometries and wrap them in an NdOverlay of ``Shape`` Elements."
   ]
  },
  {
   "cell_type": "code",
   "execution_count": null,
   "metadata": {
    "collapsed": false
   },
   "outputs": [],
   "source": [
    "%%opts NdOverlay [aspect=2]\n",
    "hv.NdOverlay({i: gv.Shape(s, crs=ccrs.PlateCarree()) for i, s in enumerate(land_geoms)})"
   ]
  },
  {
   "cell_type": "markdown",
   "metadata": {},
   "source": [
    "This makes it possible to easily create Chloropleth maps, where each part of the geometry is assigned a value it is subsequently colored by. However constructing a chloropleth by combining a bunch of shapes is a lot of effort. For that reason the Shape Element provides convenience methods to load geometries from a shapefile. Here we load the boundaries of UK electoral districts directly from an existing shapefile."
   ]
  },
  {
   "cell_type": "code",
   "execution_count": null,
   "metadata": {
    "collapsed": false
   },
   "outputs": [],
   "source": [
    "shapefile = './assets/boundaries/boundaries.shp'\n",
    "gv.Shape.from_shapefile(shapefile, crs=ccrs.PlateCarree())"
   ]
  },
  {
   "cell_type": "markdown",
   "metadata": {},
   "source": [
    "To combine these shapes with some actual data we have to be able to merge it with a dataset. To do so we can inspect the records the cartopy shapereader loads:"
   ]
  },
  {
   "cell_type": "code",
   "execution_count": null,
   "metadata": {
    "collapsed": false
   },
   "outputs": [],
   "source": [
    "shapes = cartopy.io.shapereader.Reader(shapefile)\n",
    "list(shapes.records())[0]"
   ]
  },
  {
   "cell_type": "markdown",
   "metadata": {},
   "source": [
    "As we can see the record contains a ``MultiPolygon`` together with a standard geographic ``code``, which we can use to match up the geometries with a dataset. To continue we will require a dataset that is also indexed by these codes. For this purpose we load a dataset of the EU Referendum result in the UK."
   ]
  },
  {
   "cell_type": "code",
   "execution_count": null,
   "metadata": {
    "collapsed": false
   },
   "outputs": [],
   "source": [
    "referendum = pd.read_csv('./assets/referendum.csv')\n",
    "referendum = hv.Dataset(referendum)\n",
    "referendum.data.head()"
   ]
  },
  {
   "cell_type": "markdown",
   "metadata": {},
   "source": [
    "The ``from_records`` function optionally also supports merging the records and dataset directly. To merge the to supply the name of the attribute to merge on via the ``on`` argument. If the name of attribute in the records and the dimension in the dataset match you can simply supply it as a string, otherwise supply a dictionary mapping between the attribute and column name. In this case we want to color the chloropleth by the 'leaveVoteshare', which we define via the 'value' argument. By default the resulting NdOverlay of shapes will be indexed by an integer index, to draw the index from values in the dataset you can request one or more indexes using the ``index`` argument. Finally we will specify the coordinate reference system the data is defined in, which will in most cases be the simple Plate Carree projection."
   ]
  },
  {
   "cell_type": "code",
   "execution_count": null,
   "metadata": {
    "collapsed": false
   },
   "outputs": [],
   "source": [
    "%%opts Shape (cmap='viridis')\n",
    "gv.Shape.from_records(shapes.records(), referendum, on='code', value='leaveVoteshare',\n",
    "                     index=['name', 'regionName'], crs=ccrs.PlateCarree())"
   ]
  }
 ],
 "metadata": {
  "hide_input": false,
  "kernelspec": {
   "display_name": "Python 2",
   "language": "python",
   "name": "python2"
  },
  "language_info": {
   "codemirror_mode": {
    "name": "ipython",
    "version": 2
   },
   "file_extension": ".py",
   "mimetype": "text/x-python",
   "name": "python",
   "nbconvert_exporter": "python",
   "pygments_lexer": "ipython2",
   "version": "2.7.11"
  },
  "widgets": {
   "state": {},
   "version": "1.1.2"
  }
 },
 "nbformat": 4,
 "nbformat_minor": 0
}
