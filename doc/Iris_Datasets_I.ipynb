{
 "cells": [
  {
   "cell_type": "markdown",
   "metadata": {},
   "source": [
    "GeoViews is designed to make full use of data declared in the Iris data format, called \"cubes\".  This notebook shows how to use data in this format. The cubes used in this notebook are publicly available in the [``SciTools/iris-sample-data``](https://github.com/SciTools/iris-sample-data) repository."
   ]
  },
  {
   "cell_type": "code",
   "execution_count": null,
   "metadata": {
    "collapsed": false
   },
   "outputs": [],
   "source": [
    "import datetime\n",
    "import iris\n",
    "import numpy as np\n",
    "import holoviews as hv\n",
    "import geoviews as gv\n",
    "from cartopy import crs\n",
    "from cartopy import feature as cf\n",
    "hv.notebook_extension()"
   ]
  },
  {
   "cell_type": "markdown",
   "metadata": {},
   "source": [
    "## Setting some notebook-wide options"
   ]
  },
  {
   "cell_type": "markdown",
   "metadata": {},
   "source": [
    "Let's start by setting some normalization options (discussed below) and always enable colorbars for the elements we will be displaying:"
   ]
  },
  {
   "cell_type": "code",
   "execution_count": null,
   "metadata": {
    "collapsed": false
   },
   "outputs": [],
   "source": [
    "iris.FUTURE.strict_grib_load = True\n",
    "%opts Image {+framewise} [colorbar=True] {+framewise} Curve [xrotation=60]"
   ]
  },
  {
   "cell_type": "markdown",
   "metadata": {},
   "source": [
    "Note that it is easy to set global defaults for a project, allowing any suitable settings to be made into a default on a per-element-type basis. Now let's specify the maximum number of frames we will be displaying:"
   ]
  },
  {
   "cell_type": "code",
   "execution_count": null,
   "metadata": {
    "collapsed": false
   },
   "outputs": [],
   "source": [
    "%output max_frames=1000 "
   ]
  },
  {
   "cell_type": "markdown",
   "metadata": {},
   "source": [
    "\n",
    "<div class=\"alert alert-info\" role=\"alert\">When working on a live server append ``widgets='live'`` to the line above for greatly improved performance and memory usage </div>\n"
   ]
  },
  {
   "cell_type": "markdown",
   "metadata": {},
   "source": [
    "## Loading our first cube"
   ]
  },
  {
   "cell_type": "markdown",
   "metadata": {},
   "source": [
    "Here is the summary of the first cube, which contains some surface temperature data:"
   ]
  },
  {
   "cell_type": "code",
   "execution_count": null,
   "metadata": {
    "collapsed": false
   },
   "outputs": [],
   "source": [
    "iris_cube = iris.load_cube(iris.sample_data_path('GloSea4', 'ensemble_001.pp'))\n",
    "iris_cube.coord('latitude').guess_bounds()\n",
    "iris_cube.coord('longitude').guess_bounds()"
   ]
  },
  {
   "cell_type": "code",
   "execution_count": null,
   "metadata": {
    "collapsed": false
   },
   "outputs": [],
   "source": [
    "print iris_cube.summary()"
   ]
  },
  {
   "cell_type": "markdown",
   "metadata": {},
   "source": [
    "Now we can wrap this Iris cube in a ``Dataset``:"
   ]
  },
  {
   "cell_type": "code",
   "execution_count": null,
   "metadata": {
    "collapsed": false
   },
   "outputs": [],
   "source": [
    "surface_temperature = hv.Dataset(iris_cube)\n",
    "surface_temperature"
   ]
  },
  {
   "cell_type": "markdown",
   "metadata": {},
   "source": [
    "As you can see, this `Dataset` is not yet visualizable, because we have not chosen which dimensions to map onto which axes of a plot.\n",
    "\n",
    "# A Simple example\n",
    "\n",
    "To visualize the ``surface_temperature`` cube, in a single line of code we can specify that we want to view it as a collection of Images indexed by longitude and latitude (a HoloViews ``HoloMap`` of ``gv.Image`` elements):"
   ]
  },
  {
   "cell_type": "code",
   "execution_count": null,
   "metadata": {
    "collapsed": false
   },
   "outputs": [],
   "source": [
    "surface_temperature.to(gv.Image,['longitude', 'latitude'])"
   ]
  },
  {
   "cell_type": "markdown",
   "metadata": {},
   "source": [
    "You can see that the `time` dimension was automatically mapped to a slider, because we did not map it onto one of the other available dimensions (x, y, or color, in this case). You can drag the slider to view the surface temperature at different times. The available `time` values can be shown by using the HoloViews API:"
   ]
  },
  {
   "cell_type": "code",
   "execution_count": null,
   "metadata": {
    "collapsed": false
   },
   "outputs": [],
   "source": [
    "surface_temperature.dimension_values('time')"
   ]
  },
  {
   "cell_type": "markdown",
   "metadata": {},
   "source": [
    "The human-readable times shown in the slider are long, making the text rather small. We can use the fact that all times are recorded in the year 2011 on the 16th of each month to shorten these dates. Defining how all dates should be formatted as follows will help with readability:"
   ]
  },
  {
   "cell_type": "code",
   "execution_count": null,
   "metadata": {
    "collapsed": false
   },
   "outputs": [],
   "source": [
    "hv.Dimension.type_formatters[datetime.datetime] = \"%m/%y %Hh\""
   ]
  },
  {
   "cell_type": "markdown",
   "metadata": {},
   "source": [
    "Now let us load a cube showing the pre-industrial air temperature:"
   ]
  },
  {
   "cell_type": "code",
   "execution_count": null,
   "metadata": {
    "collapsed": false
   },
   "outputs": [],
   "source": [
    "air_temperature = hv.Dataset(iris.load_cube(iris.sample_data_path('pre-industrial.pp')),\n",
    "                             group='Pre-industrial air temperature')\n",
    "air_temperature.data.coord('longitude').guess_bounds()\n",
    "air_temperature.data.coord('latitude').guess_bounds()\n",
    "air_temperature     # Use air_temperature.data.summary() to see the Iris summary (.data is the Iris cube)"
   ]
  },
  {
   "cell_type": "markdown",
   "metadata": {},
   "source": [
    "Note that we have the ``air_temperature`` available over ``longitude`` and ``latitude`` but *not* the ``time`` dimensions. As a result, this cube is a single frame (at right below) when visualized as a temperature map."
   ]
  },
  {
   "cell_type": "code",
   "execution_count": null,
   "metadata": {
    "collapsed": false
   },
   "outputs": [],
   "source": [
    "%%opts Layout [fig_inches=(12,4)]\n",
    "(surface_temperature.to.image(['longitude', 'latitude'])+\n",
    " air_temperature.to.image(['longitude', 'latitude'])(plot=dict(projection=crs.PlateCarree())))"
   ]
  },
  {
   "cell_type": "markdown",
   "metadata": {},
   "source": [
    "Next is a fairly involved example that plots an arbitrary number of HoloViews objects side by side in a ``Layout``, rather than using the fixed-layout ``+`` operator. \n",
    "\n",
    "This example shows how complex interactive plots can be generated with relatively little code, and also demonstrates how different HoloViews elements can be combined together. In the following visualization, the curve is a sample of the ``surface_temperature`` at longitude and latitude *(0,10)*, and it is unaffected by the `time` slider because it already lays out time along the x axis:"
   ]
  },
  {
   "cell_type": "code",
   "execution_count": null,
   "metadata": {
    "collapsed": false
   },
   "outputs": [],
   "source": [
    "%%opts Layout [fig_inches=(12,7)] Curve [aspect=2 xticks=4 xrotation=15] Points (color=2)\n",
    "%%opts Image [projection=crs.PlateCarree()]\n",
    "\n",
    "temp_curve = hv.Curve(surface_temperature.select(longitude=0, latitude=10), kdims=['time'])\n",
    "\n",
    "temp_maps = [cb.to(gv.Image,['longitude', 'latitude']) * gv.Points([(0,10)]) \n",
    "             for cb in [surface_temperature, air_temperature]]\n",
    "\n",
    "hv.Layout(temp_maps + [temp_curve]).cols(2).display('all')"
   ]
  },
  {
   "cell_type": "markdown",
   "metadata": {},
   "source": [
    "## Overlaying data and normalization"
   ]
  },
  {
   "cell_type": "markdown",
   "metadata": {},
   "source": [
    "Let's view the surface temperatures together with the global coastline:"
   ]
  },
  {
   "cell_type": "code",
   "execution_count": null,
   "metadata": {
    "collapsed": false
   },
   "outputs": [],
   "source": [
    "%%opts Image [projection=crs.Geostationary()] (cmap='Greens')\n",
    "surface_temperature.to.image(['longitude', 'latitude']) * gv.Feature(cf.COASTLINE)"
   ]
  },
  {
   "cell_type": "markdown",
   "metadata": {},
   "source": [
    "Notice that every frame individually uses the full dynamic range of the Greens color map. This is because normalization is set to ``+framewise`` at the top of the notebook, which means every frame is normalized independently. This sort of normalization can be computed on an as-needed basis, using whatever values are found in the current data being shown in a given frame, but it won't let you see how different frames compare to each other.\n",
    "\n",
    "To control normalization, we need to decide on the normalization limits. Let's see the maximum temperature in the cube, and use it to set a normalization range by declaring a value dimension for the Dataset:"
   ]
  },
  {
   "cell_type": "code",
   "execution_count": null,
   "metadata": {
    "collapsed": false
   },
   "outputs": [],
   "source": [
    "max_surface_temp = surface_temperature.data.data.max()\n",
    "max_surface_temp"
   ]
  },
  {
   "cell_type": "code",
   "execution_count": null,
   "metadata": {
    "collapsed": false
   },
   "outputs": [],
   "source": [
    "%%opts Image [projection=crs.Geostationary()] (cmap='Greens')\n",
    "surface_temp_dim = hv.Dimension('surface_temperature', range=(300, max_surface_temp))\n",
    "hv.Dataset(surface_temperature, vdims=[surface_temp_dim]).to(gv.Image,['longitude', 'latitude']) \\\n",
    "  * gv.Feature(cf.COASTLINE)"
   ]
  },
  {
   "cell_type": "markdown",
   "metadata": {},
   "source": [
    "By specifying the normalization range we can reveal different aspects of the data. In the example above we can see a cooling effect over time as the dark green areas close to the top of the normalization range (317K) vanish. Values outside this range are clipped to the ends of the color map."
   ]
  },
  {
   "cell_type": "markdown",
   "metadata": {},
   "source": [
    "Lastly, here is a demo of a conversion from ``surface_temperature`` to ``FilledContours``:"
   ]
  },
  {
   "cell_type": "code",
   "execution_count": null,
   "metadata": {
    "collapsed": false
   },
   "outputs": [],
   "source": [
    "surface_temperature.to(gv.FilledContours,['longitude', 'latitude']) * gv.Feature(cf.COASTLINE)"
   ]
  },
  {
   "cell_type": "markdown",
   "metadata": {},
   "source": [
    "As you can see, it's quite simple to expose any data you like from your Iris cube, easily and flexibly creating interactive or static visualizations."
   ]
  }
 ],
 "metadata": {
  "hide_input": false,
  "kernelspec": {
   "display_name": "Python 2",
   "language": "python",
   "name": "python2"
  },
  "language_info": {
   "codemirror_mode": {
    "name": "ipython",
    "version": 2
   },
   "file_extension": ".py",
   "mimetype": "text/x-python",
   "name": "python",
   "nbconvert_exporter": "python",
   "pygments_lexer": "ipython2",
   "version": "2.7.11"
  },
  "widgets": {
   "state": {},
   "version": "1.1.2"
  }
 },
 "nbformat": 4,
 "nbformat_minor": 0
}
