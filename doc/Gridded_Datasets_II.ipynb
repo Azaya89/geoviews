{
 "cells": [
  {
   "cell_type": "code",
   "execution_count": null,
   "metadata": {
    "collapsed": false
   },
   "outputs": [],
   "source": [
    "import numpy as np\n",
    "import xarray as xr\n",
    "import holoviews as hv\n",
    "import geoviews as gv\n",
    "from cartopy import crs as ccrs\n",
    "from cartopy import feature as cf\n",
    "\n",
    "hv.notebook_extension('bokeh')\n",
    "%output size=200"
   ]
  },
  {
   "cell_type": "markdown",
   "metadata": {},
   "source": [
    "<div class=\"alert alert-info\" role=\"alert\">\n",
    "  <strong>Alert:</strong> Some widgets in this notebook are set to render dynamically and require a live notebook server. If you're viewing this notebook on a static website, the widgets won't respond.\n",
    "</div>"
   ]
  },
  {
   "cell_type": "markdown",
   "metadata": {},
   "source": [
    "The main strength of [HoloViews](http://holoviews.org) and its extensions (like GeoViews) is the ability to quickly explore complex datasets by declaring lower-dimensional views into a higher-dimensional space. In HoloViews we refer to the interface that allows you to do this as the conversion API. To begin with we will load a multi-dimensional dataset of surface temperatures for different \"realizations\" (modelling parameters) using [XArray](https://github.com/pydata/xarray/):"
   ]
  },
  {
   "cell_type": "code",
   "execution_count": null,
   "metadata": {
    "collapsed": false
   },
   "outputs": [],
   "source": [
    "xr_ensembles = xr.open_dataset('ensembles.nc')\n",
    "xr_ensembles"
   ]
  },
  {
   "cell_type": "markdown",
   "metadata": {},
   "source": [
    "As we saw in the [Gridded Datasets I Tutorial](Gridded_Datasets_I.ipynb) we can easily wrap this xarray data structure as a HoloViews Dataset:"
   ]
  },
  {
   "cell_type": "code",
   "execution_count": null,
   "metadata": {
    "collapsed": false
   },
   "outputs": [],
   "source": [
    "kdims = ['realization', 'longitude', 'latitude', 'time']\n",
    "vdims = ['surface_temperature']\n",
    "dataset = gv.Dataset(xr_ensembles, kdims=kdims, vdims=vdims, crs=ccrs.PlateCarree())\n",
    "dataset"
   ]
  },
  {
   "cell_type": "markdown",
   "metadata": {},
   "source": [
    "From the repr we can immediately see the list of key dimensions (time, realization, longitude and latitude) and the value dimension of the cube (surface_temperature). However, unlike most other HoloViews Elements, the ``Dataset`` Element does not display itself visually. This is because it can be n-dimensional and therefore does not have any specific straightforward visual representation in general. To view the cube, we first have to transform it into individually visualizable chunks but before doing so we might want to rename one of the dimensions and supply a custom value formatter for the time dimension:"
   ]
  },
  {
   "cell_type": "code",
   "execution_count": null,
   "metadata": {
    "collapsed": true
   },
   "outputs": [],
   "source": [
    "hv.Dimension.type_formatters[np.datetime64] = '%Y-%m-%d'"
   ]
  },
  {
   "cell_type": "markdown",
   "metadata": {},
   "source": [
    "# Conversions\n",
    "\n",
    "A HoloViews Dataset is a wrapper around a complex multi-dimensional datastructure which allows the user to convert their data into individually visualizable views, each usually of lower dimensionality. This is done by grouping the data by some dimension and then casting it to a specific Element type, which visualizes itself.\n",
    "\n",
    "The ``dataset.to`` interface makes this especially easy.  To use it, you supply the Element type that you want to view the data as and the key dimensions of that view and it will figure out the rest. Depending on the type of Element, you can specify one or more dimensions to be displayed. This means that only certain Elements allow you to display the data on a cartographic projection. Recall that the cube we are working with has 4 coordinate dimensions (or key dimensions as they are known in HoloViews) -- time, realization, longitude and latitude. \n",
    "\n",
    "For our purposes, a geographic plot is defined as a plot that has longitude along the x axis and latitude along the y axis. To declare a two-dimensional plot type, we therefore simply request a `gv.Image` plot of ``longitude`` and ``latitude``. All the remaining dimensions are automatically inferred.  I.e., the value dimension (vdim) is ``surface_temperature``, and any remaining dimensions are assigned to a ``HoloMap`` data structure by default, which allows you to explore the data using widgets:"
   ]
  },
  {
   "cell_type": "code",
   "execution_count": null,
   "metadata": {
    "collapsed": false,
    "scrolled": true
   },
   "outputs": [],
   "source": [
    "geo_dims = ['longitude', 'latitude']\n",
    "coastline = gv.Feature(cf.COASTLINE)\n",
    "(dataset.to(gv.Image, geo_dims) * coastline)[::5, ::5]"
   ]
  },
  {
   "cell_type": "markdown",
   "metadata": {},
   "source": [
    "In this way we can visualize the 2D data in a number of ways, currently either as an ``Image`` (as above) or as ``LineContours``, ``FilledContours``, or ``Points``:"
   ]
  },
  {
   "cell_type": "code",
   "execution_count": null,
   "metadata": {
    "collapsed": false
   },
   "outputs": [],
   "source": [
    "%%opts Layout [fig_inches=(4, 8)]\n",
    "%%opts Points [color_index=2 size_index=None] (cmap='jet')\n",
    "hv.Layout([dataset.to(el, geo_dims)[::5, ::5] * coastline\n",
    "           for el in [gv.FilledContours, gv.LineContours, gv.Points]]).cols(1)"
   ]
  },
  {
   "cell_type": "markdown",
   "metadata": {},
   "source": [
    "Note that by default the conversion interface will automatically expand all the individual Elements, which can take some time if the data is very large. Instead we can also request the objects to be expanded dynamically using the ``dynamic`` keyword:"
   ]
  },
  {
   "cell_type": "code",
   "execution_count": null,
   "metadata": {
    "collapsed": false
   },
   "outputs": [],
   "source": [
    "dataset.to(gv.Image, geo_dims, dynamic=True) * coastline"
   ]
  },
  {
   "cell_type": "markdown",
   "metadata": {},
   "source": [
    "This means that the data for each frame is only extracted when you're actually viewing that part of the data, which can have huge benefits in terms of speed and memory consumption.\n",
    "\n",
    "## Non-geographic views\n",
    "\n",
    "So far we have focused entirely on geographic views of the data, plotting the data on a projection. However the conversion interface is completely general, allowing us to slice and dice the data in any way we like. The simplest example of such a view is simply a view showing the temperature over time for each realization, longitude, and latitude coordinate:"
   ]
  },
  {
   "cell_type": "code",
   "execution_count": null,
   "metadata": {
    "collapsed": false
   },
   "outputs": [],
   "source": [
    "%%opts Curve [xrotation=25 aspect=2]\n",
    "dataset.to(hv.Curve, 'time', dynamic=True)"
   ]
  },
  {
   "cell_type": "markdown",
   "metadata": {},
   "source": [
    "Another possible view is to show the data as a ``HeatMap`` over time and realization at a specified longitude and latitude:"
   ]
  },
  {
   "cell_type": "code",
   "execution_count": null,
   "metadata": {
    "collapsed": false
   },
   "outputs": [],
   "source": [
    "%%opts HeatMap [show_values=False colorbar=True]\n",
    "dataset.to(hv.HeatMap, ['realization', 'time'], dynamic=True)"
   ]
  },
  {
   "cell_type": "markdown",
   "metadata": {},
   "source": [
    "## Lower-dimensional views\n",
    "\n",
    "So far all the conversions shown have incorporated each of the available coordinate dimensions. However, often times we want to see the spread of values along one or more dimensions, ignoring other dimensions. A simple example of this is a box plot where we might want to see the spread of surface_temperature on each day, pooled across all latitude and longitude coordinates. To ignore particular dimensions we can explicitly declare the map dimensions (i.e. the key dimensions of the HoloMap container). By declaring an empty list of ``mdims``, we can tell the conversion interface to simply ignore all dimensions except the particular key dimension that was supplied, in this case the `'time'` and `'realization'`:"
   ]
  },
  {
   "cell_type": "code",
   "execution_count": null,
   "metadata": {
    "collapsed": false
   },
   "outputs": [],
   "source": [
    "%%opts BoxWhisker [xrotation=25 bgcolor='w']\n",
    "hv.Layout([dataset.to.box(d, mdims=[]) for d in ['time', 'realization']])"
   ]
  },
  {
   "cell_type": "markdown",
   "metadata": {},
   "source": [
    "This approach also gives us access to other statistical plot types. For instance, with the ``seaborn`` library installed, we also have access to the ``Distribution`` Element, which visualizes the data as a kernel density estimate. In this way we can visualize how the distribution of surface temperature values varies over time and the model realizations. We do this by ignoring the 'latitude' and 'longitude' in the list of mdims, generating a lower-dimensional view into the data and laying out `'time'` and `'realization'` in a `GridSpace`."
   ]
  },
  {
   "cell_type": "code",
   "execution_count": null,
   "metadata": {
    "collapsed": false
   },
   "outputs": [],
   "source": [
    "%opts GridSpace [shared_xaxis=True] \n",
    "%opts Distribution [bgcolor='w' show_grid=False xticks=[220, 300]]\n",
    "try:\n",
    "    import seaborn\n",
    "    grid = dataset.to.distribution(mdims=['realization', 'time']).grid()\n",
    "except:\n",
    "    grid = None\n",
    "grid"
   ]
  },
  {
   "cell_type": "markdown",
   "metadata": {},
   "source": [
    "## Reducing the data\n",
    "\n",
    "So far all the examples we have seen have displayed all the data in some way or another. Another way to explore a dataset is to explicitly reduce the dimensionality or select subregions of a dataset. There are two main ways to do this, either we explicitly select a subset of the data, or we collapse a dimension using an aggregation function, e.g. by computing a mean along a particular dimension.\n",
    "\n",
    "### Selecting slices\n",
    "\n",
    "Using the ``select`` method we can easily select ranges of coordinates in the dataset. The select method does not however know that latitude and longitude are cyclic, so instead we can select regions at both ends of the prime meridian (0$^\\circ$ longitude) and overlay them. In this way we can stitch together multiple cubes or simply view specific subregions:"
   ]
  },
  {
   "cell_type": "code",
   "execution_count": null,
   "metadata": {
    "collapsed": false
   },
   "outputs": [],
   "source": [
    "northern = dataset.select(latitude=(25, 75))\n",
    "(northern.select(longitude=(260, 305)).to(gv.Image, geo_dims) *\n",
    " northern.select(longitude=(330, 362)).to(gv.Image, geo_dims) *\n",
    " coastline)[::5, ::5]"
   ]
  },
  {
   "cell_type": "markdown",
   "metadata": {},
   "source": [
    "### Selecting a particular coordinate\n",
    "\n",
    "We can select a particular coordinate using the select method, cast the data to Curves, reindex the data to drop the now constant latitude and longitude dimensions, and overlay the remaining 'realization' dimension."
   ]
  },
  {
   "cell_type": "code",
   "execution_count": null,
   "metadata": {
    "collapsed": false
   },
   "outputs": [],
   "source": [
    "%opts NdOverlay [xrotation=25 aspect=2  legend_position='right' legend_cols=2] Curve (color=Palette('Set1'))\n",
    "dataset.select(latitude=0, longitude=0).to(hv.Curve, ['time']).reindex().overlay()"
   ]
  },
  {
   "cell_type": "markdown",
   "metadata": {},
   "source": [
    "### Aggregating coordinates\n",
    "\n",
    "Another option is to aggregate over certain dimensions, in this way we can get an idea of distributions of temperatures across all latitudes and longitudes. Here we compute the mean temperature and standard deviation by latitude and longitude and cast the resulting collapsed view to a Spread Element:"
   ]
  },
  {
   "cell_type": "code",
   "execution_count": null,
   "metadata": {
    "collapsed": false
   },
   "outputs": [],
   "source": [
    "%output size=100\n",
    "hv.Spread(dataset.aggregate('latitude', np.mean, np.std)) +\\\n",
    "hv.Spread(dataset.aggregate('longitude', np.mean, np.std))"
   ]
  },
  {
   "cell_type": "markdown",
   "metadata": {},
   "source": [
    "As you can see, it is very simple to select precisely which aspects of a complex, multidimensional datasets that you want to focus on."
   ]
  }
 ],
 "metadata": {
  "hide_input": false,
  "kernelspec": {
   "display_name": "Python 2",
   "language": "python",
   "name": "python2"
  },
  "language_info": {
   "codemirror_mode": {
    "name": "ipython",
    "version": 2
   },
   "file_extension": ".py",
   "mimetype": "text/x-python",
   "name": "python",
   "nbconvert_exporter": "python",
   "pygments_lexer": "ipython2",
   "version": "2.7.11"
  },
  "widgets": {
   "state": {},
   "version": "1.1.2"
  }
 },
 "nbformat": 4,
 "nbformat_minor": 0
}
