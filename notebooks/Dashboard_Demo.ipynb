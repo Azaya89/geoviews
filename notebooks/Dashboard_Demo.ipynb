{
 "cells": [
  {
   "cell_type": "code",
   "execution_count": null,
   "metadata": {
    "collapsed": false,
    "urth": {
     "dashboard": {
      "hidden": true
     }
    }
   },
   "outputs": [],
   "source": [
    "import iris\n",
    "import param\n",
    "import numpy as np\n",
    "import holoviews as hv\n",
    "import holocube as hc\n",
    "from matplotlib.cm import cmap_d\n",
    "from cartopy import crs as ccrs\n",
    "from cartopy import feature as cf\n",
    "from paramnb import NbParams, FileSelector\n",
    "\n",
    "hv.notebook_extension(width=90)\n",
    "%output widgets='live' size=400\n",
    "%opts Image {+framewise} [colorbar=True] Contours {+framewise}"
   ]
  },
  {
   "cell_type": "markdown",
   "metadata": {},
   "source": [
    "Declaring a set of widgets using paramNB is as simply as declaring a Parameterized class. Here we declare a ``CubeLoader`` class with a ``FileSelector`` parameter, a cache and a load method, which will load cubes from a file on disk. The ``NbParams`` function accepts the ``CubeLoader`` instance and generates a dropdown widget for the ``cube_path`` from it. By declaring a callback we can tell it to load the file from disk (or the cache) whenever the user executes the widget. Finally we can declare the ``execute`` mode, which allows declaring no execution with ``execute=None`` or adds a button to execute the 'next' cell or all cells 'below'."
   ]
  },
  {
   "cell_type": "code",
   "execution_count": null,
   "metadata": {
    "collapsed": false,
    "urth": {
     "dashboard": {
      "layout": {
       "col": 0,
       "height": 4,
       "row": 0,
       "width": 4
      }
     }
    }
   },
   "outputs": [],
   "source": [
    "class CubeLoader(param.Parameterized):\n",
    "    \n",
    "    cube_path = FileSelector(default='files/*.pp')\n",
    "    \n",
    "    def __init__(self, **params):\n",
    "        super(CubeLoader, self).__init__(**params)\n",
    "        self.cache = {}\n",
    "        self.cubes = None\n",
    "    \n",
    "    def load(self, cube_loader):\n",
    "        if self.cube_path not in self.cache:\n",
    "            cubelist = iris.load(self.cube_path)\n",
    "            for c in cubelist:\n",
    "                c.coord('grid_longitude').guess_bounds()\n",
    "                c.coord('grid_latitude').guess_bounds()\n",
    "            self.cache[self.cube_path] = cubelist\n",
    "        else:\n",
    "            cubelist = self.cache[self.cube_path]\n",
    "        cubes = {cb.vdims[0].name:cb for cb in [hc.HoloCube(c) for c in cubelist]} # Load cubes into dictionary\n",
    "        self.cubes = {k:v for k,v in cubes.items() if k!='unknown'}  # Filter as desired\n",
    "\n",
    "cube_loader = CubeLoader()\n",
    "NbParams(cube_loader, execute='next', callback=cube_loader.load)"
   ]
  },
  {
   "cell_type": "code",
   "execution_count": null,
   "metadata": {
    "collapsed": false,
    "urth": {
     "dashboard": {
      "layout": {
       "col": 4,
       "height": 7,
       "row": 0,
       "width": 3
      }
     }
    }
   },
   "outputs": [],
   "source": [
    "# Next we declare a more complex ``CubeBrowser`` class, which will define the various options on what to display and how to display it.\n",
    "# We add parameters to control the cmap, quantity, element and projection and populate these with useful options.\n",
    "\n",
    "def all_subclasses(cls):\n",
    "    return cls.__subclasses__() + [g for s in cls.__subclasses__()\n",
    "                                   for g in all_subclasses(s)]\n",
    "\n",
    "projections = {crs.__name__: crs for crs in all_subclasses(ccrs.CRS)\n",
    "               if hasattr(crs, '_as_mpl_axes') and not crs.__name__[0] == '_'}\n",
    "\n",
    "class CubeBrowser(param.Parameterized):\n",
    "\n",
    "    cmap = param.ObjectSelector(default='viridis', objects=list(cmap_d.keys()))\n",
    "\n",
    "    quantity = param.ObjectSelector(default=cube_loader.cubes.keys()[0], objects=list(cube_loader.cubes.keys()))\n",
    "\n",
    "    element = param.ObjectSelector(default=hc.Image, objects=[hc.Image, hc.Contours])\n",
    "\n",
    "    projection = param.ObjectSelector(default='PlateCarree', objects=list(projections.keys()))\n",
    "    \n",
    "    cache = {}\n",
    "\n",
    "NbParams(CubeBrowser, execute='next')"
   ]
  },
  {
   "cell_type": "code",
   "execution_count": null,
   "metadata": {
    "collapsed": false,
    "urth": {
     "dashboard": {
      "layout": {
       "col": 0,
       "height": 33,
       "row": 7,
       "width": 11
      }
     }
    }
   },
   "outputs": [],
   "source": [
    "# Finally we can declare a cell which uses the settings defined via the widgets to render the requested plot.\n",
    "# We simply look up the correct cube, convert it to the desired Element type and then display it with the requested options.\n",
    "\n",
    "key = (CubeBrowser.quantity, CubeBrowser.element)\n",
    "if key in CubeBrowser.cache:\n",
    "    converted = CubeBrowser.cache[key]\n",
    "else:\n",
    "    holocube = cube_loader.cubes[cube_browser.quantity]\n",
    "    converted = holocube.to(cube_browser.element, ['grid_longitude', 'grid_latitude'], dynamic=True)\n",
    "    CubeBrowser.cache[key] = converted\n",
    "styled = converted(style={cube_browser.element.name: dict(cmap=cube_browser.cmap)})\n",
    "projection = projections[cube_browser.projection]()\n",
    "(styled * hc.GeoFeature(cf.COASTLINE)(plot=dict(scale='50m'))(plot=dict(projection=projection)))"
   ]
  }
 ],
 "metadata": {
  "hide_input": false,
  "kernelspec": {
   "display_name": "Python 2",
   "language": "python",
   "name": "python2"
  },
  "language_info": {
   "codemirror_mode": {
    "name": "ipython",
    "version": 2
   },
   "file_extension": ".py",
   "mimetype": "text/x-python",
   "name": "python",
   "nbconvert_exporter": "python",
   "pygments_lexer": "ipython2",
   "version": "2.7.11"
  },
  "urth": {
   "dashboard": {
    "cellMargin": 10,
    "defaultCellHeight": 20,
    "layoutStrategy": "packed",
    "maxColumns": 12
   }
  }
 },
 "nbformat": 4,
 "nbformat_minor": 0
}
